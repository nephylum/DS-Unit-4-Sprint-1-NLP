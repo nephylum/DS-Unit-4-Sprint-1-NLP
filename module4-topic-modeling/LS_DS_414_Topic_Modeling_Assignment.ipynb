{
 "cells": [
  {
   "cell_type": "markdown",
   "metadata": {},
   "source": [
    "<img align=\"left\" src=\"https://lever-client-logos.s3.amazonaws.com/864372b1-534c-480e-acd5-9711f850815c-1524247202159.png\" width=200>\n",
    "<br></br>\n",
    "<br></br>\n",
    "\n",
    "# Topic Modeling\n",
    "## *Data Science Unit 4 Sprint 1 Assignment 4*\n",
    "\n",
    "Analyze a corpus of Amazon reviews from Unit 4 Sprint 1 Module 1's lecture using topic modeling: \n",
    "\n",
    "- Fit a Gensim LDA topic model on Amazon Reviews\n",
    "- Select appropriate number of topics\n",
    "- Create some dope visualization of the topics\n",
    "- Write a few bullets on your findings in markdown at the end\n",
    "- **Note**: You don't *have* to use generators for this assignment"
   ]
  },
  {
   "cell_type": "code",
   "execution_count": 10,
   "metadata": {},
   "outputs": [
    {
     "name": "stderr",
     "output_type": "stream",
     "text": [
      "C:\\Users\\eneph\\Anaconda3\\envs\\U4-S1-NLP\\lib\\site-packages\\gensim\\utils.py:1197: UserWarning: detected Windows; aliasing chunkize to chunkize_serial\n",
      "  warnings.warn(\"detected Windows; aliasing chunkize to chunkize_serial\")\n"
     ]
    }
   ],
   "source": [
    "import numpy as np\n",
    "import gensim\n",
    "import os\n",
    "import re\n",
    "\n",
    "from gensim.utils import simple_preprocess\n",
    "from gensim.parsing.preprocessing import STOPWORDS\n",
    "from gensim import corpora\n",
    "\n",
    "from gensim.models.ldamulticore import LdaMulticore"
   ]
  },
  {
   "cell_type": "code",
   "execution_count": 1,
   "metadata": {},
   "outputs": [],
   "source": [
    "import pandas as pd\n",
    "\n",
    "df = pd.read_csv('./data/Datafiniti_Amazon_Consumer_Reviews_of_Amazon_Products_May19.csv')"
   ]
  },
  {
   "cell_type": "code",
   "execution_count": 2,
   "metadata": {},
   "outputs": [
    {
     "data": {
      "text/html": [
       "<div>\n",
       "<style scoped>\n",
       "    .dataframe tbody tr th:only-of-type {\n",
       "        vertical-align: middle;\n",
       "    }\n",
       "\n",
       "    .dataframe tbody tr th {\n",
       "        vertical-align: top;\n",
       "    }\n",
       "\n",
       "    .dataframe thead th {\n",
       "        text-align: right;\n",
       "    }\n",
       "</style>\n",
       "<table border=\"1\" class=\"dataframe\">\n",
       "  <thead>\n",
       "    <tr style=\"text-align: right;\">\n",
       "      <th></th>\n",
       "      <th>id</th>\n",
       "      <th>dateAdded</th>\n",
       "      <th>dateUpdated</th>\n",
       "      <th>name</th>\n",
       "      <th>asins</th>\n",
       "      <th>brand</th>\n",
       "      <th>categories</th>\n",
       "      <th>primaryCategories</th>\n",
       "      <th>imageURLs</th>\n",
       "      <th>keys</th>\n",
       "      <th>...</th>\n",
       "      <th>reviews.didPurchase</th>\n",
       "      <th>reviews.doRecommend</th>\n",
       "      <th>reviews.id</th>\n",
       "      <th>reviews.numHelpful</th>\n",
       "      <th>reviews.rating</th>\n",
       "      <th>reviews.sourceURLs</th>\n",
       "      <th>reviews.text</th>\n",
       "      <th>reviews.title</th>\n",
       "      <th>reviews.username</th>\n",
       "      <th>sourceURLs</th>\n",
       "    </tr>\n",
       "  </thead>\n",
       "  <tbody>\n",
       "    <tr>\n",
       "      <th>0</th>\n",
       "      <td>AVpgNzjwLJeJML43Kpxn</td>\n",
       "      <td>2015-10-30T08:59:32Z</td>\n",
       "      <td>2019-04-25T09:08:16Z</td>\n",
       "      <td>AmazonBasics AAA Performance Alkaline Batterie...</td>\n",
       "      <td>B00QWO9P0O,B00LH3DMUO</td>\n",
       "      <td>Amazonbasics</td>\n",
       "      <td>AA,AAA,Health,Electronics,Health &amp; Household,C...</td>\n",
       "      <td>Health &amp; Beauty</td>\n",
       "      <td>https://images-na.ssl-images-amazon.com/images...</td>\n",
       "      <td>amazonbasics/hl002619,amazonbasicsaaaperforman...</td>\n",
       "      <td>...</td>\n",
       "      <td>NaN</td>\n",
       "      <td>NaN</td>\n",
       "      <td>NaN</td>\n",
       "      <td>NaN</td>\n",
       "      <td>3</td>\n",
       "      <td>https://www.amazon.com/product-reviews/B00QWO9...</td>\n",
       "      <td>I order 3 of them and one of the item is bad q...</td>\n",
       "      <td>... 3 of them and one of the item is bad quali...</td>\n",
       "      <td>Byger yang</td>\n",
       "      <td>https://www.barcodable.com/upc/841710106442,ht...</td>\n",
       "    </tr>\n",
       "    <tr>\n",
       "      <th>1</th>\n",
       "      <td>AVpgNzjwLJeJML43Kpxn</td>\n",
       "      <td>2015-10-30T08:59:32Z</td>\n",
       "      <td>2019-04-25T09:08:16Z</td>\n",
       "      <td>AmazonBasics AAA Performance Alkaline Batterie...</td>\n",
       "      <td>B00QWO9P0O,B00LH3DMUO</td>\n",
       "      <td>Amazonbasics</td>\n",
       "      <td>AA,AAA,Health,Electronics,Health &amp; Household,C...</td>\n",
       "      <td>Health &amp; Beauty</td>\n",
       "      <td>https://images-na.ssl-images-amazon.com/images...</td>\n",
       "      <td>amazonbasics/hl002619,amazonbasicsaaaperforman...</td>\n",
       "      <td>...</td>\n",
       "      <td>NaN</td>\n",
       "      <td>NaN</td>\n",
       "      <td>NaN</td>\n",
       "      <td>NaN</td>\n",
       "      <td>4</td>\n",
       "      <td>https://www.amazon.com/product-reviews/B00QWO9...</td>\n",
       "      <td>Bulk is always the less expensive way to go fo...</td>\n",
       "      <td>... always the less expensive way to go for pr...</td>\n",
       "      <td>ByMG</td>\n",
       "      <td>https://www.barcodable.com/upc/841710106442,ht...</td>\n",
       "    </tr>\n",
       "    <tr>\n",
       "      <th>2</th>\n",
       "      <td>AVpgNzjwLJeJML43Kpxn</td>\n",
       "      <td>2015-10-30T08:59:32Z</td>\n",
       "      <td>2019-04-25T09:08:16Z</td>\n",
       "      <td>AmazonBasics AAA Performance Alkaline Batterie...</td>\n",
       "      <td>B00QWO9P0O,B00LH3DMUO</td>\n",
       "      <td>Amazonbasics</td>\n",
       "      <td>AA,AAA,Health,Electronics,Health &amp; Household,C...</td>\n",
       "      <td>Health &amp; Beauty</td>\n",
       "      <td>https://images-na.ssl-images-amazon.com/images...</td>\n",
       "      <td>amazonbasics/hl002619,amazonbasicsaaaperforman...</td>\n",
       "      <td>...</td>\n",
       "      <td>NaN</td>\n",
       "      <td>NaN</td>\n",
       "      <td>NaN</td>\n",
       "      <td>NaN</td>\n",
       "      <td>5</td>\n",
       "      <td>https://www.amazon.com/product-reviews/B00QWO9...</td>\n",
       "      <td>Well they are not Duracell but for the price i...</td>\n",
       "      <td>... are not Duracell but for the price i am ha...</td>\n",
       "      <td>BySharon Lambert</td>\n",
       "      <td>https://www.barcodable.com/upc/841710106442,ht...</td>\n",
       "    </tr>\n",
       "    <tr>\n",
       "      <th>3</th>\n",
       "      <td>AVpgNzjwLJeJML43Kpxn</td>\n",
       "      <td>2015-10-30T08:59:32Z</td>\n",
       "      <td>2019-04-25T09:08:16Z</td>\n",
       "      <td>AmazonBasics AAA Performance Alkaline Batterie...</td>\n",
       "      <td>B00QWO9P0O,B00LH3DMUO</td>\n",
       "      <td>Amazonbasics</td>\n",
       "      <td>AA,AAA,Health,Electronics,Health &amp; Household,C...</td>\n",
       "      <td>Health &amp; Beauty</td>\n",
       "      <td>https://images-na.ssl-images-amazon.com/images...</td>\n",
       "      <td>amazonbasics/hl002619,amazonbasicsaaaperforman...</td>\n",
       "      <td>...</td>\n",
       "      <td>NaN</td>\n",
       "      <td>NaN</td>\n",
       "      <td>NaN</td>\n",
       "      <td>NaN</td>\n",
       "      <td>5</td>\n",
       "      <td>https://www.amazon.com/product-reviews/B00QWO9...</td>\n",
       "      <td>Seem to work as well as name brand batteries a...</td>\n",
       "      <td>... as well as name brand batteries at a much ...</td>\n",
       "      <td>Bymark sexson</td>\n",
       "      <td>https://www.barcodable.com/upc/841710106442,ht...</td>\n",
       "    </tr>\n",
       "    <tr>\n",
       "      <th>4</th>\n",
       "      <td>AVpgNzjwLJeJML43Kpxn</td>\n",
       "      <td>2015-10-30T08:59:32Z</td>\n",
       "      <td>2019-04-25T09:08:16Z</td>\n",
       "      <td>AmazonBasics AAA Performance Alkaline Batterie...</td>\n",
       "      <td>B00QWO9P0O,B00LH3DMUO</td>\n",
       "      <td>Amazonbasics</td>\n",
       "      <td>AA,AAA,Health,Electronics,Health &amp; Household,C...</td>\n",
       "      <td>Health &amp; Beauty</td>\n",
       "      <td>https://images-na.ssl-images-amazon.com/images...</td>\n",
       "      <td>amazonbasics/hl002619,amazonbasicsaaaperforman...</td>\n",
       "      <td>...</td>\n",
       "      <td>NaN</td>\n",
       "      <td>NaN</td>\n",
       "      <td>NaN</td>\n",
       "      <td>NaN</td>\n",
       "      <td>5</td>\n",
       "      <td>https://www.amazon.com/product-reviews/B00QWO9...</td>\n",
       "      <td>These batteries are very long lasting the pric...</td>\n",
       "      <td>... batteries are very long lasting the price ...</td>\n",
       "      <td>Bylinda</td>\n",
       "      <td>https://www.barcodable.com/upc/841710106442,ht...</td>\n",
       "    </tr>\n",
       "  </tbody>\n",
       "</table>\n",
       "<p>5 rows × 24 columns</p>\n",
       "</div>"
      ],
      "text/plain": [
       "                     id             dateAdded           dateUpdated  \\\n",
       "0  AVpgNzjwLJeJML43Kpxn  2015-10-30T08:59:32Z  2019-04-25T09:08:16Z   \n",
       "1  AVpgNzjwLJeJML43Kpxn  2015-10-30T08:59:32Z  2019-04-25T09:08:16Z   \n",
       "2  AVpgNzjwLJeJML43Kpxn  2015-10-30T08:59:32Z  2019-04-25T09:08:16Z   \n",
       "3  AVpgNzjwLJeJML43Kpxn  2015-10-30T08:59:32Z  2019-04-25T09:08:16Z   \n",
       "4  AVpgNzjwLJeJML43Kpxn  2015-10-30T08:59:32Z  2019-04-25T09:08:16Z   \n",
       "\n",
       "                                                name                  asins  \\\n",
       "0  AmazonBasics AAA Performance Alkaline Batterie...  B00QWO9P0O,B00LH3DMUO   \n",
       "1  AmazonBasics AAA Performance Alkaline Batterie...  B00QWO9P0O,B00LH3DMUO   \n",
       "2  AmazonBasics AAA Performance Alkaline Batterie...  B00QWO9P0O,B00LH3DMUO   \n",
       "3  AmazonBasics AAA Performance Alkaline Batterie...  B00QWO9P0O,B00LH3DMUO   \n",
       "4  AmazonBasics AAA Performance Alkaline Batterie...  B00QWO9P0O,B00LH3DMUO   \n",
       "\n",
       "          brand                                         categories  \\\n",
       "0  Amazonbasics  AA,AAA,Health,Electronics,Health & Household,C...   \n",
       "1  Amazonbasics  AA,AAA,Health,Electronics,Health & Household,C...   \n",
       "2  Amazonbasics  AA,AAA,Health,Electronics,Health & Household,C...   \n",
       "3  Amazonbasics  AA,AAA,Health,Electronics,Health & Household,C...   \n",
       "4  Amazonbasics  AA,AAA,Health,Electronics,Health & Household,C...   \n",
       "\n",
       "  primaryCategories                                          imageURLs  \\\n",
       "0   Health & Beauty  https://images-na.ssl-images-amazon.com/images...   \n",
       "1   Health & Beauty  https://images-na.ssl-images-amazon.com/images...   \n",
       "2   Health & Beauty  https://images-na.ssl-images-amazon.com/images...   \n",
       "3   Health & Beauty  https://images-na.ssl-images-amazon.com/images...   \n",
       "4   Health & Beauty  https://images-na.ssl-images-amazon.com/images...   \n",
       "\n",
       "                                                keys  ... reviews.didPurchase  \\\n",
       "0  amazonbasics/hl002619,amazonbasicsaaaperforman...  ...                 NaN   \n",
       "1  amazonbasics/hl002619,amazonbasicsaaaperforman...  ...                 NaN   \n",
       "2  amazonbasics/hl002619,amazonbasicsaaaperforman...  ...                 NaN   \n",
       "3  amazonbasics/hl002619,amazonbasicsaaaperforman...  ...                 NaN   \n",
       "4  amazonbasics/hl002619,amazonbasicsaaaperforman...  ...                 NaN   \n",
       "\n",
       "  reviews.doRecommend reviews.id reviews.numHelpful reviews.rating  \\\n",
       "0                 NaN        NaN                NaN              3   \n",
       "1                 NaN        NaN                NaN              4   \n",
       "2                 NaN        NaN                NaN              5   \n",
       "3                 NaN        NaN                NaN              5   \n",
       "4                 NaN        NaN                NaN              5   \n",
       "\n",
       "                                  reviews.sourceURLs  \\\n",
       "0  https://www.amazon.com/product-reviews/B00QWO9...   \n",
       "1  https://www.amazon.com/product-reviews/B00QWO9...   \n",
       "2  https://www.amazon.com/product-reviews/B00QWO9...   \n",
       "3  https://www.amazon.com/product-reviews/B00QWO9...   \n",
       "4  https://www.amazon.com/product-reviews/B00QWO9...   \n",
       "\n",
       "                                        reviews.text  \\\n",
       "0  I order 3 of them and one of the item is bad q...   \n",
       "1  Bulk is always the less expensive way to go fo...   \n",
       "2  Well they are not Duracell but for the price i...   \n",
       "3  Seem to work as well as name brand batteries a...   \n",
       "4  These batteries are very long lasting the pric...   \n",
       "\n",
       "                                       reviews.title  reviews.username  \\\n",
       "0  ... 3 of them and one of the item is bad quali...        Byger yang   \n",
       "1  ... always the less expensive way to go for pr...              ByMG   \n",
       "2  ... are not Duracell but for the price i am ha...  BySharon Lambert   \n",
       "3  ... as well as name brand batteries at a much ...     Bymark sexson   \n",
       "4  ... batteries are very long lasting the price ...           Bylinda   \n",
       "\n",
       "                                          sourceURLs  \n",
       "0  https://www.barcodable.com/upc/841710106442,ht...  \n",
       "1  https://www.barcodable.com/upc/841710106442,ht...  \n",
       "2  https://www.barcodable.com/upc/841710106442,ht...  \n",
       "3  https://www.barcodable.com/upc/841710106442,ht...  \n",
       "4  https://www.barcodable.com/upc/841710106442,ht...  \n",
       "\n",
       "[5 rows x 24 columns]"
      ]
     },
     "execution_count": 2,
     "metadata": {},
     "output_type": "execute_result"
    }
   ],
   "source": [
    "df.head()"
   ]
  },
  {
   "cell_type": "code",
   "execution_count": null,
   "metadata": {},
   "outputs": [],
   "source": [
    "#stopwords = set(stopwords).union(set(['']))"
   ]
  },
  {
   "cell_type": "code",
   "execution_count": 12,
   "metadata": {},
   "outputs": [],
   "source": [
    "def tokenize(text):\n",
    "    return [token for token in simple_preprocess(text) if token not in STOPWORDS]"
   ]
  },
  {
   "cell_type": "code",
   "execution_count": 16,
   "metadata": {},
   "outputs": [
    {
     "data": {
      "text/plain": [
       "['simple', 'test', 'simpleton']"
      ]
     },
     "execution_count": 16,
     "metadata": {},
     "output_type": "execute_result"
    }
   ],
   "source": [
    "tokenize('This is a SIMPLE test for a simpleton.')"
   ]
  },
  {
   "cell_type": "code",
   "execution_count": 24,
   "metadata": {},
   "outputs": [],
   "source": [
    "tokens = df['reviews.text'].apply(tokenize)"
   ]
  },
  {
   "cell_type": "code",
   "execution_count": 26,
   "metadata": {},
   "outputs": [
    {
     "data": {
      "text/plain": [
       "['bulk', 'expensive', 'way', 'products', 'like']"
      ]
     },
     "execution_count": 26,
     "metadata": {},
     "output_type": "execute_result"
    }
   ],
   "source": [
    "tokens[1]"
   ]
  },
  {
   "cell_type": "code",
   "execution_count": 36,
   "metadata": {},
   "outputs": [],
   "source": [
    "id2word = corpora.Dictionary(tokens)"
   ]
  },
  {
   "cell_type": "code",
   "execution_count": 37,
   "metadata": {},
   "outputs": [
    {
     "data": {
      "text/plain": [
       "[(13, 1), (434, 1), (3420, 3), (3540, 1)]"
      ]
     },
     "execution_count": 37,
     "metadata": {},
     "output_type": "execute_result"
    }
   ],
   "source": [
    "id2word.doc2bow(tokenize('This TEST message like an echo! echo, echo...'))"
   ]
  },
  {
   "cell_type": "code",
   "execution_count": 38,
   "metadata": {},
   "outputs": [
    {
     "data": {
      "text/plain": [
       "9622"
      ]
     },
     "execution_count": 38,
     "metadata": {},
     "output_type": "execute_result"
    }
   ],
   "source": [
    "len(id2word.keys())"
   ]
  },
  {
   "cell_type": "code",
   "execution_count": 39,
   "metadata": {},
   "outputs": [],
   "source": [
    "id2word.filter_extremes(no_below=10, no_above=0.75)"
   ]
  },
  {
   "cell_type": "code",
   "execution_count": 40,
   "metadata": {},
   "outputs": [
    {
     "data": {
      "text/plain": [
       "2359"
      ]
     },
     "execution_count": 40,
     "metadata": {},
     "output_type": "execute_result"
    }
   ],
   "source": [
    "len(id2word.keys())"
   ]
  },
  {
   "cell_type": "code",
   "execution_count": 42,
   "metadata": {},
   "outputs": [],
   "source": [
    "#setup the corpus\n",
    "corpus = [id2word.doc2bow(text) for text in tokens]"
   ]
  },
  {
   "cell_type": "code",
   "execution_count": 43,
   "metadata": {},
   "outputs": [],
   "source": [
    "#setup lda\n",
    "lda = LdaMulticore(corpus=corpus, id2word=id2word, random_state=42, num_topics=15, passes=10, workers=4)"
   ]
  },
  {
   "cell_type": "code",
   "execution_count": 46,
   "metadata": {},
   "outputs": [],
   "source": [
    "words = [re.findall(r'\"([^\"]*)\"',t[1]) for t in lda.print_topics()]"
   ]
  },
  {
   "cell_type": "code",
   "execution_count": 47,
   "metadata": {},
   "outputs": [],
   "source": [
    "topics = [' '.join(t[0:5]) for t in words]"
   ]
  },
  {
   "cell_type": "code",
   "execution_count": 48,
   "metadata": {},
   "outputs": [
    {
     "name": "stdout",
     "output_type": "stream",
     "text": [
      "------ Topic 0 ------\n",
      "tablet great price black good\n",
      "\n",
      "------ Topic 1 ------\n",
      "kindle read reading light love\n",
      "\n",
      "------ Topic 2 ------\n",
      "tablet amazon apps store google\n",
      "\n",
      "------ Topic 3 ------\n",
      "batteries long work brand price\n",
      "\n",
      "------ Topic 4 ------\n",
      "product great happy recommend christmas\n",
      "\n",
      "------ Topic 5 ------\n",
      "battery batteries life great long\n",
      "\n",
      "------ Topic 6 ------\n",
      "easy tablet use screen size\n",
      "\n",
      "------ Topic 7 ------\n",
      "kindle better books bought new\n",
      "\n",
      "------ Topic 8 ------\n",
      "kids tablet great apps love\n",
      "\n",
      "------ Topic 9 ------\n",
      "issues device cover ipad ok\n",
      "\n",
      "------ Topic 10 ------\n",
      "old loves year bought love\n",
      "\n",
      "------ Topic 11 ------\n",
      "use easy great music alexa\n",
      "\n",
      "------ Topic 12 ------\n",
      "loves tablet daughter bought got\n",
      "\n",
      "------ Topic 13 ------\n",
      "great good price tablet quality\n",
      "\n",
      "------ Topic 14 ------\n",
      "perfect tablet internet books friendly\n",
      "\n"
     ]
    }
   ],
   "source": [
    "for id, t in enumerate(topics): \n",
    "    print(f\"------ Topic {id} ------\")\n",
    "    print(t, end=\"\\n\\n\")"
   ]
  },
  {
   "cell_type": "code",
   "execution_count": 54,
   "metadata": {},
   "outputs": [],
   "source": [
    "from gensim.models.coherencemodel import CoherenceModel\n",
    "\n",
    "def compute_coherence_values(dictionary, corpus, limit, start=2, step=3):\n",
    "    \"\"\"\n",
    "    Compute c_v coherence for various number of topics\n",
    "\n",
    "    Parameters:\n",
    "    ----------\n",
    "    dictionary : Gensim dictionary\n",
    "    corpus : Gensim corpus\n",
    "    limit : Max num of topics\n",
    "\n",
    "    Returns:\n",
    "    -------\n",
    "    model_list : List of LDA topic models\n",
    "    coherence_values : Coherence values corresponding to the LDA model with respective number of topics\n",
    "    \"\"\"\n",
    "    coherence_values = []\n",
    "    model_list = []\n",
    "    for num_topics in range(start, limit, step):\n",
    "        model = LdaMulticore(corpus=corpus, num_topics=num_topics, id2word=id2word, workers=4)\n",
    "        model_list.append(model)\n",
    "        coherencemodel = CoherenceModel(model=model, corpus=corpus, dictionary=dictionary, coherence='u_mass')\n",
    "        coherence_values.append(coherencemodel.get_coherence())\n",
    "\n",
    "    return model_list, coherence_values"
   ]
  },
  {
   "cell_type": "code",
   "execution_count": 56,
   "metadata": {},
   "outputs": [],
   "source": [
    "import warnings\n",
    "warnings.filterwarnings('ignore')"
   ]
  },
  {
   "cell_type": "code",
   "execution_count": 57,
   "metadata": {},
   "outputs": [],
   "source": [
    "model_list, coherence_values = compute_coherence_values(dictionary=id2word,\n",
    "                                                        corpus=corpus,\n",
    "                                                        start=2,\n",
    "                                                        limit=40,\n",
    "                                                        step=6\n",
    "                                                        )"
   ]
  },
  {
   "cell_type": "code",
   "execution_count": 63,
   "metadata": {},
   "outputs": [
    {
     "data": {
      "text/plain": [
       "-2.5265089611666447"
      ]
     },
     "execution_count": 63,
     "metadata": {},
     "output_type": "execute_result"
    }
   ],
   "source": [
    "coherence_values[0]"
   ]
  },
  {
   "cell_type": "code",
   "execution_count": 65,
   "metadata": {},
   "outputs": [
    {
     "data": {
      "image/png": "[encoded data removed]",
      "text/plain": [
       "<Figure size 432x288 with 1 Axes>"
      ]
     },
     "metadata": {
      "needs_background": "light"
     },
     "output_type": "display_data"
    }
   ],
   "source": [
    "# Show graph\n",
    "import matplotlib.pyplot as plt\n",
    "\n",
    "limit=40; start=2; step=6;\n",
    "x = range(start, limit, step)\n",
    "plt.plot(x, coherence_values)\n",
    "plt.xlabel(\"Num Topics\")\n",
    "plt.ylabel(\"Coherence score\")\n",
    "plt.legend((\"coherence_values\"), loc='best')\n",
    "plt.show()"
   ]
  },
  {
   "cell_type": "markdown",
   "metadata": {},
   "source": [
    "## Looks like the fewer number of topics the better"
   ]
  },
  {
   "cell_type": "code",
   "execution_count": 67,
   "metadata": {},
   "outputs": [],
   "source": [
    "#resetup lda\n",
    "nlda = LdaMulticore(corpus=corpus, id2word=id2word, random_state=42, num_topics=3, passes=10, workers=4)"
   ]
  },
  {
   "cell_type": "code",
   "execution_count": 75,
   "metadata": {},
   "outputs": [],
   "source": [
    "nwords = [re.findall(r'\"([^\"]*)\"',t[1]) for t in nlda.print_topics()]"
   ]
  },
  {
   "cell_type": "code",
   "execution_count": 76,
   "metadata": {},
   "outputs": [],
   "source": [
    "ntopics = [' '.join(t[0:5]) for t in nwords]"
   ]
  },
  {
   "cell_type": "code",
   "execution_count": 77,
   "metadata": {},
   "outputs": [
    {
     "name": "stdout",
     "output_type": "stream",
     "text": [
      "------ Topic 0 ------\n",
      "batteries great price good long\n",
      "\n",
      "------ Topic 1 ------\n",
      "great tablet love kindle loves\n",
      "\n",
      "------ Topic 2 ------\n",
      "tablet amazon apps great use\n",
      "\n"
     ]
    }
   ],
   "source": [
    "for id, t in enumerate(ntopics): \n",
    "    print(f\"------ Topic {id} ------\")\n",
    "    print(t, end=\"\\n\\n\")"
   ]
  },
  {
   "cell_type": "code",
   "execution_count": 49,
   "metadata": {},
   "outputs": [],
   "source": [
    "import pyLDAvis.gensim\n",
    "\n",
    "pyLDAvis.enable_notebook()"
   ]
  },
  {
   "cell_type": "code",
   "execution_count": 78,
   "metadata": {},
   "outputs": [
    {
     "data": {
      "text/html": [
       "\n",
       "<link rel=\"stylesheet\" type=\"text/css\" href=\"https://cdn.rawgit.com/bmabey/pyLDAvis/files/ldavis.v1.0.0.css\">\n",
       "\n",
       "\n",
       "<div id=\"ldavis_el1269621467345856728691371631\"></div>\n",
       "<script type=\"text/javascript\">\n",
       "\n",
       "var ldavis_el1269621467345856728691371631_data = {\"mdsDat\": {\"x\": [-0.178163463144263, 0.23195065802504763, -0.05378719488078466], \"y\": [-0.07807699201300923, -0.03398543386904999, 0.11206242588205921], \"topics\": [1, 2, 3], \"cluster\": [1, 1, 1], \"Freq\": [34.52086639404297, 33.611122131347656, 31.868019104003906]}, \"tinfo\": {\"Category\": [\"Default\", \"Default\", \"Default\", \"Default\", \"Default\", \"Default\", \"Default\", \"Default\", \"Default\", \"Default\", \"Default\", \"Default\", \"Default\", \"Default\", \"Default\", \"Default\", \"Default\", \"Default\", \"Default\", \"Default\", \"Default\", \"Default\", \"Default\", \"Default\", \"Default\", \"Default\", \"Default\", \"Default\", \"Default\", \"Default\", \"Topic1\", \"Topic1\", \"Topic1\", \"Topic1\", \"Topic1\", \"Topic1\", \"Topic1\", \"Topic1\", \"Topic1\", \"Topic1\", \"Topic1\", \"Topic1\", \"Topic1\", \"Topic1\", \"Topic1\", \"Topic1\", \"Topic1\", \"Topic1\", \"Topic1\", \"Topic1\", \"Topic1\", \"Topic1\", \"Topic1\", \"Topic1\", \"Topic1\", \"Topic1\", \"Topic1\", \"Topic1\", \"Topic1\", \"Topic1\", \"Topic1\", \"Topic1\", \"Topic1\", \"Topic1\", \"Topic1\", \"Topic1\", \"Topic1\", \"Topic1\", \"Topic1\", \"Topic1\", \"Topic1\", \"Topic1\", \"Topic1\", \"Topic1\", \"Topic1\", \"Topic1\", \"Topic1\", \"Topic1\", \"Topic1\", \"Topic1\", \"Topic1\", \"Topic1\", \"Topic1\", \"Topic1\", \"Topic1\", \"Topic1\", \"Topic1\", \"Topic1\", \"Topic1\", \"Topic1\", \"Topic1\", \"Topic1\", \"Topic1\", \"Topic1\", \"Topic1\", \"Topic1\", \"Topic1\", \"Topic1\", \"Topic1\", \"Topic2\", \"Topic2\", \"Topic2\", \"Topic2\", \"Topic2\", \"Topic2\", \"Topic2\", \"Topic2\", \"Topic2\", \"Topic2\", \"Topic2\", \"Topic2\", \"Topic2\", \"Topic2\", \"Topic2\", \"Topic2\", \"Topic2\", \"Topic2\", \"Topic2\", \"Topic2\", \"Topic2\", \"Topic2\", \"Topic2\", \"Topic2\", \"Topic2\", \"Topic2\", \"Topic2\", \"Topic2\", \"Topic2\", \"Topic2\", \"Topic2\", \"Topic2\", \"Topic2\", \"Topic2\", \"Topic2\", \"Topic2\", \"Topic2\", \"Topic2\", \"Topic2\", \"Topic2\", \"Topic2\", \"Topic2\", \"Topic2\", \"Topic2\", \"Topic2\", \"Topic2\", \"Topic2\", \"Topic2\", \"Topic2\", \"Topic2\", \"Topic2\", \"Topic2\", \"Topic2\", \"Topic2\", \"Topic2\", \"Topic2\", \"Topic2\", \"Topic2\", \"Topic2\", \"Topic2\", \"Topic2\", \"Topic2\", \"Topic2\", \"Topic2\", \"Topic2\", \"Topic2\", \"Topic2\", \"Topic2\", \"Topic3\", \"Topic3\", \"Topic3\", \"Topic3\", \"Topic3\", \"Topic3\", \"Topic3\", \"Topic3\", \"Topic3\", \"Topic3\", \"Topic3\", \"Topic3\", \"Topic3\", \"Topic3\", \"Topic3\", \"Topic3\", \"Topic3\", \"Topic3\", \"Topic3\", \"Topic3\", \"Topic3\", \"Topic3\", \"Topic3\", \"Topic3\", \"Topic3\", \"Topic3\", \"Topic3\", \"Topic3\", \"Topic3\", \"Topic3\", \"Topic3\", \"Topic3\", \"Topic3\", \"Topic3\", \"Topic3\", \"Topic3\", \"Topic3\", \"Topic3\", \"Topic3\", \"Topic3\", \"Topic3\", \"Topic3\", \"Topic3\", \"Topic3\", \"Topic3\", \"Topic3\", \"Topic3\", \"Topic3\", \"Topic3\", \"Topic3\", \"Topic3\", \"Topic3\", \"Topic3\", \"Topic3\", \"Topic3\", \"Topic3\", \"Topic3\", \"Topic3\", \"Topic3\", \"Topic3\", \"Topic3\", \"Topic3\", \"Topic3\", \"Topic3\", \"Topic3\", \"Topic3\", \"Topic3\", \"Topic3\", \"Topic3\", \"Topic3\", \"Topic3\", \"Topic3\", \"Topic3\", \"Topic3\", \"Topic3\", \"Topic3\", \"Topic3\"], \"Freq\": [6964.0, 5875.0, 6288.0, 7157.0, 2920.0, 2231.0, 2319.0, 2395.0, 2196.0, 3398.0, 1933.0, 2967.0, 1184.0, 1199.0, 1069.0, 3858.0, 1818.0, 9874.0, 1188.0, 1179.0, 2077.0, 809.0, 1497.0, 1794.0, 3158.0, 1479.0, 933.0, 2590.0, 1642.0, 974.0, 507.454345703125, 398.3263244628906, 198.9138641357422, 153.5933074951172, 178.55828857421875, 1063.3741455078125, 138.953125, 407.75994873046875, 440.7786560058594, 104.33455657958984, 112.9492416381836, 2214.372802734375, 195.60354614257812, 144.92428588867188, 89.30136108398438, 80.34776306152344, 129.08834838867188, 168.52020263671875, 166.31585693359375, 82.27786254882812, 148.1212921142578, 86.09851837158203, 70.30812072753906, 219.30218505859375, 166.56362915039062, 207.51866149902344, 83.85979461669922, 173.4296875, 56.66688919067383, 89.11398315429688, 339.6924743652344, 171.4993133544922, 186.20692443847656, 185.6591033935547, 262.85675048828125, 179.6385955810547, 2696.742919921875, 2029.54736328125, 1103.0653076171875, 457.1048889160156, 1101.9454345703125, 820.0737915039062, 423.11065673828125, 858.1196899414062, 2701.184326171875, 1504.762451171875, 572.1224365234375, 933.6707763671875, 1219.157958984375, 806.8391723632812, 258.94207763671875, 2118.7158203125, 2211.007080078125, 1267.87109375, 324.7952880859375, 2185.64697265625, 672.009033203125, 565.8507080078125, 2758.371337890625, 824.7787475585938, 762.264892578125, 2835.39013671875, 819.8682250976562, 967.6649169921875, 580.0757446289062, 791.3001098632812, 607.0211791992188, 604.1585083007812, 574.6229858398438, 6957.13720703125, 807.9688720703125, 335.0506286621094, 441.3302307128906, 291.7967529296875, 554.5254516601562, 323.37420654296875, 277.8044738769531, 1179.744873046875, 195.27320861816406, 224.70382690429688, 200.640869140625, 143.18809509277344, 136.1156768798828, 109.53105163574219, 85.80741119384766, 99.44047546386719, 87.399169921875, 69.91840362548828, 76.93870544433594, 82.7217025756836, 124.36473083496094, 73.92829895019531, 332.2339172363281, 153.3450164794922, 98.78263092041016, 110.0544204711914, 52.058738708496094, 64.77666473388672, 51.35438919067383, 1169.32958984375, 285.66998291015625, 171.76197814941406, 266.9654235839844, 548.6749877929688, 354.3852233886719, 143.78797912597656, 5368.9384765625, 2150.620849609375, 2171.6728515625, 399.3218994140625, 168.0916748046875, 846.975341796875, 425.30621337890625, 160.98922729492188, 4673.83056640625, 1195.98876953125, 531.64599609375, 412.06689453125, 1437.4296875, 5398.341796875, 1597.011474609375, 428.2348937988281, 830.6448364257812, 1193.28857421875, 439.9712219238281, 878.1557006835938, 554.7958374023438, 1448.7547607421875, 570.1868286132812, 839.5068969726562, 666.968994140625, 846.2673950195312, 561.9633178710938, 698.9736328125, 465.06207275390625, 452.00518798828125, 454.749267578125, 499.00885009765625, 321.05853271484375, 197.42999267578125, 115.5427474975586, 318.1004943847656, 101.19912719726562, 81.12703704833984, 87.00828552246094, 60.45270919799805, 89.2969970703125, 77.53193664550781, 169.71372985839844, 100.21253967285156, 82.04334259033203, 537.7581176757812, 58.82038497924805, 48.25243377685547, 61.72783660888672, 162.56362915039062, 242.548095703125, 92.28340911865234, 43.3337287902832, 42.0803108215332, 39.25801086425781, 71.35926055908203, 62.34604263305664, 40.445858001708984, 90.23284912109375, 34.566707611083984, 36.61305236816406, 428.39874267578125, 234.20330810546875, 359.4226989746094, 140.09751892089844, 81.48487854003906, 88.31060791015625, 268.4581604003906, 95.18951416015625, 115.3700942993164, 462.443359375, 592.2788696289062, 285.6740417480469, 314.96673583984375, 1651.0228271484375, 186.0419921875, 169.43919372558594, 296.7951965332031, 173.00909423828125, 4301.04052734375, 207.0214385986328, 2189.792236328125, 690.5772094726562, 391.176025390625, 1474.325439453125, 389.59149169921875, 376.19903564453125, 488.9169006347656, 678.4109497070312, 325.5851135253906, 593.1243286132812, 821.7371826171875, 1538.937744140625, 478.2392578125, 488.78729248046875, 823.5501098632812, 1510.6998291015625, 434.699951171875, 822.5569458007812, 1641.1343994140625, 832.81787109375, 614.7796630859375, 452.8219909667969, 525.1104736328125, 571.9518432617188, 448.5282897949219, 526.5336303710938, 428.5613098144531], \"Term\": [\"batteries\", \"price\", \"good\", \"tablet\", \"kindle\", \"loves\", \"work\", \"long\", \"old\", \"love\", \"apps\", \"easy\", \"brand\", \"value\", \"gift\", \"amazon\", \"year\", \"great\", \"read\", \"reading\", \"battery\", \"brands\", \"books\", \"games\", \"bought\", \"quality\", \"deal\", \"kids\", \"screen\", \"daughter\", \"grandson\", \"loved\", \"likes\", \"voyage\", \"niece\", \"gift\", \"paperwhite\", \"granddaughter\", \"wife\", \"generation\", \"oasis\", \"loves\", \"birthday\", \"lightweight\", \"upgraded\", \"lighter\", \"eyes\", \"husband\", \"enjoys\", \"purse\", \"dropped\", \"blue\", \"text\", \"cover\", \"grand\", \"upgrade\", \"dad\", \"present\", \"dark\", \"law\", \"book\", \"ease\", \"mother\", \"weight\", \"mom\", \"bigger\", \"kindle\", \"old\", \"reading\", \"reader\", \"read\", \"christmas\", \"learning\", \"daughter\", \"love\", \"year\", \"light\", \"perfect\", \"books\", \"son\", \"absolutely\", \"easy\", \"bought\", \"games\", \"playing\", \"use\", \"size\", \"case\", \"tablet\", \"purchased\", \"got\", \"great\", \"screen\", \"kids\", \"new\", \"like\", \"best\", \"product\", \"buy\", \"batteries\", \"brands\", \"aaa\", \"aa\", \"energizer\", \"duracell\", \"lasting\", \"amazonbasics\", \"brand\", \"alkaline\", \"packaging\", \"remotes\", \"packaged\", \"shipping\", \"flashlights\", \"delivery\", \"ordering\", \"packs\", \"quantity\", \"costco\", \"wrapped\", \"controllers\", \"cardboard\", \"pack\", \"described\", \"comparable\", \"rechargeable\", \"longevity\", \"leak\", \"rayovac\", \"value\", \"remote\", \"package\", \"basics\", \"beat\", \"toys\", \"bulk\", \"price\", \"work\", \"long\", \"expected\", \"arrived\", \"deal\", \"box\", \"advertised\", \"good\", \"quality\", \"cheap\", \"cheaper\", \"battery\", \"great\", \"buy\", \"expensive\", \"far\", \"product\", \"fine\", \"works\", \"money\", \"amazon\", \"ve\", \"time\", \"better\", \"like\", \"life\", \"use\", \"excellent\", \"lot\", \"best\", \"google\", \"android\", \"sd\", \"install\", \"card\", \"os\", \"micro\", \"subscription\", \"services\", \"pre\", \"expandable\", \"ads\", \"profile\", \"unlimited\", \"app\", \"proof\", \"fix\", \"usb\", \"load\", \"content\", \"complaint\", \"interested\", \"frustrating\", \"credit\", \"users\", \"operating\", \"accounts\", \"freetime\", \"magazine\", \"allowed\", \"friendly\", \"account\", \"user\", \"limited\", \"busy\", \"parent\", \"slow\", \"streaming\", \"adults\", \"prime\", \"free\", \"gb\", \"available\", \"apps\", \"add\", \"isn\", \"memory\", \"apple\", \"tablet\", \"video\", \"amazon\", \"device\", \"download\", \"kids\", \"child\", \"kid\", \"tablets\", \"play\", \"access\", \"store\", \"screen\", \"use\", \"set\", \"ipad\", \"time\", \"good\", \"fast\", \"like\", \"great\", \"easy\", \"battery\", \"little\", \"games\", \"bought\", \"nice\", \"love\", \"life\"], \"Total\": [6964.0, 5875.0, 6288.0, 7157.0, 2920.0, 2231.0, 2319.0, 2395.0, 2196.0, 3398.0, 1933.0, 2967.0, 1184.0, 1199.0, 1069.0, 3858.0, 1818.0, 9874.0, 1188.0, 1179.0, 2077.0, 809.0, 1497.0, 1794.0, 3158.0, 1479.0, 933.0, 2590.0, 1642.0, 974.0, 509.3477783203125, 399.935302734375, 199.79620361328125, 154.36642456054688, 179.51513671875, 1069.3267822265625, 139.75167846679688, 410.42315673828125, 443.84259033203125, 105.08454132080078, 113.76368713378906, 2231.564453125, 197.32862854003906, 146.2034149169922, 90.12561798095703, 81.11720275878906, 130.46139526367188, 170.35928344726562, 168.1365509033203, 83.18920135498047, 149.780029296875, 87.07426452636719, 71.1436996459961, 221.9361572265625, 168.7404022216797, 210.46873474121094, 85.0645523071289, 176.01699829101562, 57.5143928527832, 90.47168731689453, 345.8760681152344, 174.144775390625, 189.6115264892578, 189.17001342773438, 270.1435546875, 183.32443237304688, 2920.919677734375, 2196.994873046875, 1179.793212890625, 479.37384033203125, 1188.0770263671875, 906.8894653320312, 452.2834167480469, 974.5421142578125, 3398.25927734375, 1818.860595703125, 644.101806640625, 1103.31103515625, 1497.642333984375, 975.6492309570312, 275.529296875, 2967.09619140625, 3158.18603515625, 1794.6448974609375, 373.3018798828125, 4423.55859375, 973.1627197265625, 803.0357055664062, 7157.662109375, 1359.9552001953125, 1257.2843017578125, 9874.8671875, 1642.4833984375, 2590.12451171875, 933.37255859375, 2460.12451171875, 1438.296875, 2200.4033203125, 2367.182861328125, 6964.166015625, 809.0200805664062, 335.9490051269531, 442.5228576660156, 292.6053466796875, 556.138427734375, 324.3431701660156, 278.6956481933594, 1184.2978515625, 196.0619354248047, 225.64462280273438, 201.50314331054688, 143.846923828125, 136.87371826171875, 110.14229583740234, 86.43224334716797, 100.1829833984375, 88.08270263671875, 70.48137664794922, 77.56039428710938, 83.40017700195312, 125.40360260009766, 74.58191680908203, 335.2075500488281, 154.78277587890625, 99.73338317871094, 111.23098754882812, 52.635047912597656, 65.49565124511719, 52.0327033996582, 1199.540283203125, 290.3870544433594, 174.28372192382812, 272.55792236328125, 569.76513671875, 365.9556579589844, 146.10760498046875, 5875.2255859375, 2319.943603515625, 2395.043212890625, 419.45782470703125, 172.22109985351562, 933.6017456054688, 453.5810546875, 164.94677734375, 6288.259765625, 1479.370361328125, 608.2607421875, 462.0401611328125, 2077.1728515625, 9874.8671875, 2367.182861328125, 514.5560913085938, 1263.747802734375, 2200.4033203125, 560.2227783203125, 1639.0595703125, 817.8238525390625, 3858.845947265625, 869.5951538085938, 2046.498779296875, 1445.2548828125, 2460.12451171875, 1005.15966796875, 4423.55859375, 768.4854736328125, 952.8583984375, 1438.296875, 501.2983093261719, 322.5712890625, 198.63734436035156, 116.30838775634766, 320.62921142578125, 102.13072967529297, 81.94886016845703, 87.90104675292969, 61.177040100097656, 90.38848114013672, 78.52005004882812, 172.02674865722656, 101.5835189819336, 83.21207427978516, 545.8939819335938, 59.74158477783203, 49.01604080200195, 62.78518295288086, 165.56527709960938, 247.05284118652344, 94.00145721435547, 44.140960693359375, 42.868934631347656, 40.01005172729492, 72.77568817138672, 63.615726470947266, 41.28334045410156, 92.10565185546875, 35.291229248046875, 37.390342712402344, 441.95648193359375, 240.4061279296875, 372.7259216308594, 143.94058227539062, 83.30123901367188, 90.44259643554688, 279.25823974609375, 97.63623809814453, 118.81884765625, 491.31292724609375, 636.4805908203125, 304.6045227050781, 340.3676452636719, 1933.1204833984375, 197.67453002929688, 182.6073760986328, 340.0190124511719, 189.6929168701172, 7157.662109375, 235.49313354492188, 3858.845947265625, 1000.1153564453125, 516.3192749023438, 2590.12451171875, 522.61669921875, 523.095703125, 761.0626220703125, 1193.307861328125, 442.75274658203125, 1022.11181640625, 1642.4833984375, 4423.55859375, 812.1078491210938, 846.3590087890625, 2046.498779296875, 6288.259765625, 731.3538818359375, 2460.12451171875, 9874.8671875, 2967.09619140625, 2077.1728515625, 961.6162109375, 1794.6448974609375, 3158.18603515625, 1232.450927734375, 3398.25927734375, 1005.15966796875], \"loglift\": [30.0, 29.0, 28.0, 27.0, 26.0, 25.0, 24.0, 23.0, 22.0, 21.0, 20.0, 19.0, 18.0, 17.0, 16.0, 15.0, 14.0, 13.0, 12.0, 11.0, 10.0, 9.0, 8.0, 7.0, 6.0, 5.0, 4.0, 3.0, 2.0, 1.0, 1.0599000453948975, 1.0595999956130981, 1.0592000484466553, 1.0585999488830566, 1.0583000183105469, 1.0579999685287476, 1.0578999519348145, 1.0571000576019287, 1.0566999912261963, 1.056399941444397, 1.056399941444397, 1.055899977684021, 1.054800033569336, 1.054800033569336, 1.0543999671936035, 1.0541000366210938, 1.0529999732971191, 1.0528000593185425, 1.0527000427246094, 1.0526000261306763, 1.0525000095367432, 1.052299976348877, 1.051800012588501, 1.0516999959945679, 1.0506000518798828, 1.0494999885559082, 1.049299955368042, 1.048799991607666, 1.048799991607666, 1.0484999418258667, 1.0456000566482544, 1.04830002784729, 1.0455000400543213, 1.0448999404907227, 1.0362999439239502, 1.0433000326156616, 0.9837999939918518, 0.9843000173568726, 0.996399998664856, 1.0160000324249268, 0.9883000254631042, 0.9629999995231628, 0.9969000220298767, 0.9363999962806702, 0.8339999914169312, 0.8740000128746033, 0.9451000094413757, 0.8967000246047974, 0.8579000234603882, 0.8736000061035156, 1.0015000104904175, 0.7268000245094299, 0.707099974155426, 0.7160999774932861, 0.9243999719619751, 0.358599990606308, 0.6933000087738037, 0.7135000228881836, 0.11010000109672546, 0.5634999871253967, 0.5631999969482422, -0.1842000037431717, 0.36880001425743103, 0.07900000363588333, 0.5879999995231628, -0.07069999724626541, 0.20100000500679016, -0.2290000021457672, -0.3521000146865845, 1.0893000364303589, 1.0889999866485596, 1.0875999927520752, 1.0875999927520752, 1.087499976158142, 1.087399959564209, 1.0872999429702759, 1.0871000289916992, 1.0865000486373901, 1.086300015449524, 1.0860999822616577, 1.0859999656677246, 1.0857000350952148, 1.0848000049591064, 1.0846999883651733, 1.0830999612808228, 1.082900047302246, 1.0824999809265137, 1.0822999477386475, 1.0822999477386475, 1.0821000337600708, 1.0820000171661377, 1.0815000534057617, 1.0814000368118286, 1.0809999704360962, 1.0807000398635864, 1.079699993133545, 1.079300045967102, 1.079300045967102, 1.0772000551223755, 1.0648000240325928, 1.0738999843597412, 1.075700044631958, 1.069599986076355, 1.0526000261306763, 1.0582000017166138, 1.0743000507354736, 1.0002000331878662, 1.0145000219345093, 0.9923999905586243, 1.041100025177002, 1.065999984741211, 0.992900013923645, 1.0259000062942505, 1.065999984741211, 0.7936000227928162, 0.8776999711990356, 0.9556999802589417, 0.9757999777793884, 0.7221999764442444, 0.4864000082015991, 0.6966999769210815, 0.9067000150680542, 0.6707000136375427, 0.47839999198913574, 0.8486999869346619, 0.46630001068115234, 0.7023000121116638, 0.11060000211000443, 0.6682000160217285, 0.19920000433921814, 0.31700000166893005, 0.02319999970495701, 0.5088000297546387, -0.754800021648407, 0.588100016117096, 0.34450000524520874, -0.06120000034570694, 1.1390000581741333, 1.1389000415802002, 1.1375000476837158, 1.1369999647140503, 1.135599970817566, 1.1344000101089478, 1.1334999799728394, 1.1333999633789062, 1.131700038909912, 1.1313999891281128, 1.1309000253677368, 1.1299999952316284, 1.1299999952316284, 1.1294000148773193, 1.128600001335144, 1.128000020980835, 1.1279000043869019, 1.1266000270843506, 1.1253000497817993, 1.1252000331878662, 1.125100016593933, 1.125100016593933, 1.125, 1.1246000528335571, 1.123900055885315, 1.1233999729156494, 1.1231000423431396, 1.1230000257492065, 1.1227999925613403, 1.1225999593734741, 1.1124000549316406, 1.117400050163269, 1.107200026512146, 1.1165000200271606, 1.121500015258789, 1.1196999549865723, 1.104099988937378, 1.1181999444961548, 1.1140999794006348, 1.0829999446868896, 1.0715999603271484, 1.0793999433517456, 1.065999984741211, 0.98580002784729, 1.082900047302246, 1.0686999559402466, 1.007599949836731, 1.0514999628067017, 0.6341999769210815, 1.0147000551223755, 0.5770000219345093, 0.7731999754905701, 0.8659999966621399, 0.5800999999046326, 0.8497999906539917, 0.8138999938964844, 0.7009999752044678, 0.5788000226020813, 0.8361999988555908, 0.5993000268936157, 0.45100000500679016, 0.0877000018954277, 0.6140000224113464, 0.5946000218391418, 0.23330000042915344, -0.2824999988079071, 0.6233000159263611, 0.04800000041723251, -0.6510000228881836, -0.12700000405311584, -0.0738999992609024, 0.390500009059906, -0.08540000021457672, -0.5651000142097473, 0.13279999792575836, -0.7210999727249146, 0.29109999537467957], \"logprob\": [30.0, 29.0, 28.0, 27.0, 26.0, 25.0, 24.0, 23.0, 22.0, 21.0, 20.0, 19.0, 18.0, 17.0, 16.0, 15.0, 14.0, 13.0, 12.0, 11.0, 10.0, 9.0, 8.0, 7.0, 6.0, 5.0, 4.0, 3.0, 2.0, 1.0, -5.315499782562256, -5.557700157165527, -6.252099990844727, -6.5106000900268555, -6.360000133514404, -4.575699806213379, -6.610799789428711, -5.534299850463867, -5.456399917602539, -6.897299766540527, -6.817999839782715, -3.8422000408172607, -6.268899917602539, -6.568699836730957, -7.0528998374938965, -7.158599853515625, -6.684500217437744, -6.417900085449219, -6.431099891662598, -7.134799957275391, -6.546899795532227, -7.0894999504089355, -7.292099952697754, -6.1545000076293945, -6.429599761962891, -6.209700107574463, -7.115799903869629, -6.389200210571289, -7.507800102233887, -7.054999828338623, -5.716899871826172, -6.400400161743164, -6.3180999755859375, -6.321000099182129, -5.973299980163574, -6.354000091552734, -3.64520001411438, -3.9293999671936035, -4.539100170135498, -5.420000076293945, -4.54010009765625, -4.835599899291992, -5.497300148010254, -4.790200233459473, -3.6435000896453857, -4.228600025177002, -5.1956000328063965, -4.7058000564575195, -4.439000129699707, -4.851799964904785, -5.98829984664917, -3.886399984359741, -3.8436999320983887, -4.399899959564209, -5.7617998123168945, -3.855299949645996, -5.0346999168396, -5.206600189208984, -3.6226000785827637, -4.829800128936768, -4.908699989318848, -3.5950000286102295, -4.8358001708984375, -4.670100212097168, -5.18179988861084, -4.871300220489502, -5.13640022277832, -5.14109992980957, -5.191199779510498, -2.6707000732421875, -4.823699951171875, -5.703999996185303, -5.428500175476074, -5.842199802398682, -5.200099945068359, -5.7393999099731445, -5.891300201416016, -4.445199966430664, -6.243800163269043, -6.103499889373779, -6.216700077056885, -6.554100036621094, -6.604700088500977, -6.822000026702881, -7.066100120544434, -6.918700218200684, -7.047800064086914, -7.270899772644043, -7.17519998550415, -7.102799892425537, -6.695000171661377, -7.215099811553955, -5.712399959564209, -6.485599994659424, -6.925300121307373, -6.817299842834473, -7.565899848937988, -7.347300052642822, -7.579500198364258, -4.454100131988525, -5.863399982452393, -6.372099876403809, -5.931099891662598, -5.210700035095215, -5.647900104522705, -6.549900054931641, -2.9298999309539795, -3.8447000980377197, -3.8350000381469727, -5.528500080108643, -6.393700122833252, -4.776599884033203, -5.465400218963623, -6.4369001388549805, -3.06850004196167, -4.43149995803833, -5.242300033569336, -5.497099876403809, -4.247600078582764, -2.9244000911712646, -4.142399787902832, -5.458600044250488, -4.796000003814697, -4.433800220489502, -5.43149995803833, -4.7403998374938965, -5.1996002197265625, -4.239799976348877, -5.172299861907959, -4.785399913787842, -5.015500068664551, -4.777400016784668, -5.186800003051758, -4.968599796295166, -5.376100063323975, -5.404600143432617, -5.398499965667725, -5.252399921417236, -5.693399906158447, -6.179599761962891, -6.7153000831604, -5.702600002288818, -6.847899913787842, -7.068999767303467, -6.999000072479248, -7.363100051879883, -6.9730000495910645, -7.114299774169922, -6.330900192260742, -6.857699871063232, -7.057700157165527, -5.177599906921387, -7.390500068664551, -7.588500022888184, -7.342299938201904, -6.373899936676025, -5.973800182342529, -6.940100193023682, -7.696100234985352, -7.725399971008301, -7.7947998046875, -7.197299957275391, -7.332300186157227, -7.764999866485596, -6.962600231170654, -7.922100067138672, -7.86460018157959, -5.404900074005127, -6.008800029754639, -5.58050012588501, -6.52269983291626, -7.064599990844727, -6.984099864959717, -5.872300148010254, -6.90910005569458, -6.716800212860107, -5.328499794006348, -5.080999851226807, -5.810100078582764, -5.712500095367432, -4.055799961090088, -6.238999843597412, -6.332499980926514, -5.771900177001953, -6.311600208282471, -3.098400115966797, -6.132199764251709, -3.773400068283081, -4.927499771118164, -5.495800018310547, -4.169000148773193, -5.499899864196777, -5.534900188446045, -5.272799968719482, -4.945199966430664, -5.6793999671936035, -5.079599857330322, -4.753600120544434, -4.126100063323975, -5.294899940490723, -5.273099899291992, -4.751399993896484, -4.144700050354004, -5.3902997970581055, -4.752600193023682, -4.061800003051758, -4.740200042724609, -5.043700218200684, -5.3495001792907715, -5.201399803161621, -5.115900039672852, -5.359000205993652, -5.198699951171875, -5.404600143432617]}, \"token.table\": {\"Topic\": [2, 3, 2, 3, 1, 2, 3, 1, 2, 3, 1, 3, 3, 1, 2, 3, 1, 3, 1, 2, 3, 1, 2, 2, 3, 3, 1, 2, 3, 2, 3, 1, 2, 3, 1, 2, 3, 1, 2, 3, 1, 2, 3, 2, 3, 1, 2, 3, 2, 3, 1, 2, 3, 1, 2, 3, 1, 2, 3, 1, 2, 3, 1, 2, 3, 1, 2, 3, 1, 2, 3, 1, 2, 1, 2, 3, 1, 2, 3, 1, 2, 3, 1, 2, 3, 1, 2, 3, 2, 3, 1, 2, 1, 3, 1, 2, 3, 1, 3, 2, 1, 2, 3, 1, 2, 3, 1, 2, 3, 1, 2, 3, 1, 2, 3, 1, 2, 2, 3, 1, 2, 3, 2, 3, 2, 1, 3, 3, 1, 2, 3, 1, 1, 2, 3, 1, 2, 3, 2, 1, 2, 3, 1, 2, 3, 1, 2, 3, 1, 3, 2, 3, 1, 3, 1, 2, 3, 2, 3, 1, 2, 3, 1, 2, 3, 2, 3, 1, 2, 3, 1, 2, 3, 1, 3, 1, 2, 3, 1, 2, 3, 1, 2, 3, 3, 2, 1, 2, 3, 1, 3, 1, 2, 3, 2, 3, 1, 2, 3, 1, 2, 3, 1, 1, 2, 3, 1, 2, 3, 1, 3, 1, 2, 3, 1, 2, 3, 1, 2, 3, 1, 2, 3, 1, 2, 3, 1, 2, 3, 3, 3, 1, 2, 3, 1, 2, 3, 1, 2, 3, 1, 2, 3, 1, 2, 3, 2, 3, 1, 2, 3, 2, 1, 2, 3, 1, 2, 3, 1, 2, 3, 1, 1, 2, 3, 1, 2, 3, 1, 1, 3, 1, 2, 3, 1, 2, 3, 1, 2, 3, 2, 1, 2, 3, 1, 2, 3, 1, 2, 3, 1, 2, 3, 3, 1, 2, 3, 3, 1, 2, 3, 1, 2, 3, 1, 2, 3, 1, 2, 3, 1, 2, 3, 1, 1, 1, 2, 3, 1, 3, 2, 3, 1, 2, 3, 1, 2, 3, 2, 2, 3, 2, 1, 1, 3, 1, 2, 3, 1, 2, 3, 1, 2, 3, 1, 3, 1, 2, 3, 1, 2, 3, 1, 2, 3, 1, 2, 3, 1, 3, 3, 1, 2, 3, 1, 2, 1, 2, 3, 2, 2, 1, 2, 3, 1, 2, 3, 1, 2, 3, 2, 3, 2, 3, 2, 3, 1, 2, 3, 1, 3, 3, 1, 2, 3, 2, 1, 2, 3, 1, 2, 3, 1, 2, 3, 1, 2, 3, 1, 2, 3, 2, 3, 1, 2, 3, 1, 2, 3, 1, 1, 2, 3, 2, 3, 1, 3, 1, 3, 1, 1, 2, 3, 1, 2, 3, 1, 2, 3, 1, 3, 1, 2, 3, 1, 2, 3, 1, 2, 3, 1, 1, 2, 3, 1, 2, 3, 1, 2, 3, 1, 2, 3, 2, 1, 2, 3], \"Freq\": [0.996558666229248, 0.0022597701754420996, 0.9971751570701599, 0.0029766422230750322, 0.9400089383125305, 0.014517512172460556, 0.04718191549181938, 0.2642558515071869, 0.0022585969418287277, 0.7363026142120361, 0.024957766756415367, 0.9733529090881348, 0.9689138531684875, 0.050588205456733704, 0.010117641650140285, 0.9409406185150146, 0.011626099236309528, 0.9882184267044067, 0.025248520076274872, 0.008416173048317432, 0.9678599238395691, 0.024250246584415436, 0.9760724306106567, 0.9945836663246155, 0.005100429058074951, 0.9895603060722351, 0.057011865079402924, 0.3755008578300476, 0.567527174949646, 0.997503936290741, 0.003588143503293395, 0.0031000899616628885, 0.0031000899616628885, 0.995128870010376, 0.014654859900474548, 0.0018318574875593185, 0.9855393767356873, 0.01581503450870514, 0.0685318186879158, 0.912000298500061, 0.1453608274459839, 0.0005172983510419726, 0.8540595173835754, 0.9754902124404907, 0.02322595752775669, 0.03525599464774132, 0.04113199561834335, 0.9254698753356934, 0.9796082973480225, 0.01834472455084324, 0.00014359221677295864, 0.9989710450172424, 0.0008615532424300909, 0.012035589665174484, 0.6918057203292847, 0.2960754930973053, 0.010530655272305012, 0.9635549187660217, 0.026326637715101242, 0.42202693223953247, 0.3163463771343231, 0.26211556792259216, 0.3466516435146332, 0.4615103006362915, 0.19166170060634613, 0.9818658232688904, 0.005454810336232185, 0.01090962067246437, 0.9932669401168823, 0.005067688412964344, 0.005067688412964344, 0.987662672996521, 0.011484449729323387, 0.9830110669136047, 0.002891208976507187, 0.01734725385904312, 0.813946008682251, 0.0013354322873055935, 0.18428966403007507, 0.7000854015350342, 0.1187390461564064, 0.18111662566661835, 0.0022046775557100773, 0.9369879961013794, 0.059526294469833374, 0.0008443821570836008, 0.9963709712028503, 0.003377528628334403, 0.9987391233444214, 0.0012360633118078113, 0.013688541017472744, 0.9855749607086182, 0.01200462318956852, 0.9723744988441467, 0.24290476739406586, 0.6746416091918945, 0.08279883861541748, 0.006237735040485859, 0.9917998313903809, 0.9921976327896118, 0.7048254609107971, 0.00498109869658947, 0.2901490032672882, 0.0032880636863410473, 0.8746249079704285, 0.12165835499763489, 0.02164313942193985, 0.8916974067687988, 0.0865725576877594, 0.252575159072876, 0.0019134482135996222, 0.7462447881698608, 0.9041895866394043, 0.06505754590034485, 0.030874766409397125, 0.01002673339098692, 0.9926465749740601, 0.010638132691383362, 0.9787082076072693, 0.016190867871046066, 0.004047716967761517, 0.9835952520370483, 0.9888073205947876, 0.007974252104759216, 0.9927747249603271, 0.9867702722549438, 0.00901160016655922, 0.974755048751831, 0.9874853491783142, 0.011755778454244137, 0.011755778454244137, 0.9910562634468079, 0.8804134726524353, 0.0010261229472234845, 0.11903025954961777, 0.003213361604139209, 0.9072390794754028, 0.08997412770986557, 0.9949990510940552, 0.006460667122155428, 0.9884820580482483, 0.006460667122155428, 0.28996655344963074, 0.019997693598270416, 0.6909202933311462, 0.24209825694561005, 0.0019367861095815897, 0.7572833895683289, 0.9881157279014587, 0.006676457356661558, 0.9979529976844788, 0.001798113458789885, 0.9819415807723999, 0.011484697461128235, 0.7141662836074829, 0.005392477847635746, 0.28074586391448975, 0.997931182384491, 0.003417572472244501, 0.9872927665710449, 0.0059475465677678585, 0.0059475465677678585, 0.20950298011302948, 0.6050862669944763, 0.18477903306484222, 0.012735600583255291, 0.9933768510818481, 0.03099238872528076, 0.9512279629707336, 0.016688209027051926, 0.05635925754904747, 0.8317849040031433, 0.11271851509809494, 0.9887982606887817, 0.007665102835744619, 0.12819012999534607, 0.6575679183006287, 0.21444152295589447, 0.012305944226682186, 0.39379021525382996, 0.5947872996330261, 0.07140016555786133, 0.7854018211364746, 0.14280033111572266, 0.9792712330818176, 0.9987080693244934, 0.058132171630859375, 0.01099797897040844, 0.93011474609375, 0.010857096873223782, 0.9771387577056885, 0.02715199440717697, 0.0022626661229878664, 0.9684211611747742, 0.023326914757490158, 0.9797304272651672, 0.7065464854240417, 0.0011144266463816166, 0.29253697395324707, 0.059093017131090164, 0.0032829453703016043, 0.9389223456382751, 0.9896793365478516, 0.9940834045410156, 0.00280550355091691, 0.00280550355091691, 0.01653875783085823, 0.7432898879051208, 0.24028906226158142, 0.00398964062333107, 0.9954152703285217, 0.6060681939125061, 0.16623128950595856, 0.2274744063615799, 0.9896858930587769, 0.005926263052970171, 0.005926263052970171, 0.9940959811210632, 0.0024365095887333155, 0.004873019177466631, 0.9953905940055847, 0.001963295042514801, 0.001963295042514801, 0.2870924770832062, 0.5466402769088745, 0.16617944836616516, 0.9920210838317871, 0.005869947373867035, 0.005869947373867035, 0.9973485469818115, 0.9741519093513489, 0.4099915027618408, 0.012996848672628403, 0.5777689814567566, 0.005476229824125767, 0.0657147616147995, 0.9254828691482544, 0.2676374614238739, 0.01147017627954483, 0.7187977433204651, 0.3737272024154663, 0.05714011192321777, 0.5690845847129822, 0.923339307308197, 0.0003423579328227788, 0.07634581625461578, 0.9958587884902954, 0.0030831540934741497, 0.9837331771850586, 0.011053181253373623, 0.011053181253373623, 0.9924322962760925, 0.9352542757987976, 0.0022110030986368656, 0.06190808489918709, 0.014923002570867538, 0.5591151714324951, 0.42679786682128906, 0.8880583643913269, 0.04812903702259064, 0.06365453451871872, 0.98622727394104, 0.9917688965797424, 0.006839785724878311, 0.006839785724878311, 0.32152843475341797, 0.34388503432273865, 0.3345359265804291, 0.9960148930549622, 0.02084193378686905, 0.9726235270500183, 0.3587709963321686, 0.17054620385169983, 0.4710819125175476, 0.01207982748746872, 0.00603991374373436, 0.9845059514045715, 0.014195986092090607, 0.9068729877471924, 0.07891298085451126, 0.9879348874092102, 0.29175373911857605, 0.47436219453811646, 0.23298320174217224, 0.7948186993598938, 0.05031988024711609, 0.15507939457893372, 0.9951609373092651, 0.0025004043709486723, 0.0025004043709486723, 0.9921290874481201, 0.0008962322608567774, 0.0071698580868542194, 0.9917478561401367, 0.12646351754665375, 0.002941011916846037, 0.8734805583953857, 0.9884213209152222, 0.9735564589500427, 0.003701735520735383, 0.022210413590073586, 0.03668271750211716, 0.6786302328109741, 0.284902423620224, 0.9809530377388, 0.005273940972983837, 0.015821823850274086, 0.6214024424552917, 0.11999495327472687, 0.2582034468650818, 0.3310476541519165, 0.30508315563201904, 0.3643147051334381, 0.9971303939819336, 0.9932870864868164, 0.9239894151687622, 0.0009103344054892659, 0.07510259002447128, 0.01571938395500183, 0.9746018052101135, 0.9881917834281921, 0.9889286160469055, 0.00596645288169384, 0.9904311299324036, 0.00298322644084692, 0.005737770348787308, 0.9868965148925781, 0.011475540697574615, 0.9941123127937317, 0.9971432089805603, 0.004431747365742922, 0.9877080917358398, 0.9946213364601135, 0.02211347408592701, 0.9729928374290466, 0.8465427756309509, 0.046224500983953476, 0.10785716772079468, 0.43073543906211853, 0.0008380067301914096, 0.568168580532074, 0.8706090450286865, 0.0026787971146404743, 0.12858226895332336, 0.011063356883823872, 0.9846387505531311, 0.9828596115112305, 0.005681269336491823, 0.011362538672983646, 0.015999386087059975, 0.9138372540473938, 0.07012496888637543, 0.006106087937951088, 0.052919428795576096, 0.9403375387191772, 0.27449512481689453, 0.5421733260154724, 0.18314823508262634, 0.009844116866588593, 0.9844116568565369, 0.9875867962837219, 0.6066376566886902, 0.15368153154850006, 0.24044910073280334, 0.9857048392295837, 0.012020790949463844, 0.023658713325858116, 0.8084520697593689, 0.1683148443698883, 0.9931701421737671, 0.9801527857780457, 0.9275493025779724, 0.002525088842958212, 0.0698607936501503, 0.953326940536499, 0.0020860545337200165, 0.043807145208120346, 0.9349095821380615, 0.00847606174647808, 0.056789614260196686, 0.9889330267906189, 0.008990300819277763, 0.9848923683166504, 0.013774719089269638, 0.9975030422210693, 0.004962701816111803, 0.49924400448799133, 0.0006088341469876468, 0.5004616975784302, 0.005034300033003092, 0.9917570948600769, 0.9807600975036621, 0.38664814829826355, 0.02462727017700672, 0.5885917544364929, 0.9936165809631348, 0.6905320286750793, 0.06268221884965897, 0.24661856889724731, 0.035809148102998734, 0.003580915043130517, 0.959685206413269, 0.827141523361206, 0.014349419623613358, 0.15886856615543365, 0.019567331299185753, 0.40015190839767456, 0.5801713466644287, 0.02048419788479805, 0.010242098942399025, 0.9729993939399719, 0.011376428417861462, 0.9897493124008179, 0.38532134890556335, 0.013691621832549572, 0.6008945107460022, 0.3508252799510956, 0.007883713580667973, 0.6425226926803589, 0.9839240908622742, 0.18714889883995056, 0.41045713424682617, 0.40263888239860535, 0.9673303365707397, 0.03005828708410263, 0.012017486616969109, 0.9854339361190796, 0.9882702827453613, 0.009502599015831947, 0.9875105619430542, 0.015927324071526527, 0.015927324071526527, 0.9874941110610962, 0.49417227506637573, 0.1580175757408142, 0.34790992736816406, 0.03219524025917053, 0.0026829366106539965, 0.9631742238998413, 0.01374085247516632, 0.97560054063797, 0.002500958042219281, 0.9745399951934814, 0.02250862307846546, 0.1575445830821991, 0.6554774045944214, 0.1862935870885849, 0.08917457610368729, 0.029724858701229095, 0.8790065050125122, 0.9976262450218201, 0.9832425117492676, 0.01585875079035759, 0.00528625026345253, 0.9935954809188843, 0.0022530509158968925, 0.004506101831793785, 0.009051944129168987, 0.9271777272224426, 0.06379465758800507, 0.32396626472473145, 0.5356730222702026, 0.14032436907291412, 0.9952017068862915, 0.8274410963058472, 0.00494815269485116, 0.16768740117549896], \"Term\": [\"aa\", \"aa\", \"aaa\", \"aaa\", \"absolutely\", \"absolutely\", \"absolutely\", \"access\", \"access\", \"access\", \"account\", \"account\", \"accounts\", \"add\", \"add\", \"add\", \"ads\", \"ads\", \"adults\", \"adults\", \"adults\", \"advertised\", \"advertised\", \"alkaline\", \"alkaline\", \"allowed\", \"amazon\", \"amazon\", \"amazon\", \"amazonbasics\", \"amazonbasics\", \"android\", \"android\", \"android\", \"app\", \"app\", \"app\", \"apple\", \"apple\", \"apple\", \"apps\", \"apps\", \"apps\", \"arrived\", \"arrived\", \"available\", \"available\", \"available\", \"basics\", \"basics\", \"batteries\", \"batteries\", \"batteries\", \"battery\", \"battery\", \"battery\", \"beat\", \"beat\", \"beat\", \"best\", \"best\", \"best\", \"better\", \"better\", \"better\", \"bigger\", \"bigger\", \"bigger\", \"birthday\", \"birthday\", \"birthday\", \"blue\", \"blue\", \"book\", \"book\", \"book\", \"books\", \"books\", \"books\", \"bought\", \"bought\", \"bought\", \"box\", \"box\", \"box\", \"brand\", \"brand\", \"brand\", \"brands\", \"brands\", \"bulk\", \"bulk\", \"busy\", \"busy\", \"buy\", \"buy\", \"buy\", \"card\", \"card\", \"cardboard\", \"case\", \"case\", \"case\", \"cheap\", \"cheap\", \"cheap\", \"cheaper\", \"cheaper\", \"cheaper\", \"child\", \"child\", \"child\", \"christmas\", \"christmas\", \"christmas\", \"comparable\", \"comparable\", \"complaint\", \"complaint\", \"content\", \"content\", \"content\", \"controllers\", \"controllers\", \"costco\", \"cover\", \"cover\", \"credit\", \"dad\", \"dad\", \"dad\", \"dark\", \"daughter\", \"daughter\", \"daughter\", \"deal\", \"deal\", \"deal\", \"delivery\", \"described\", \"described\", \"described\", \"device\", \"device\", \"device\", \"download\", \"download\", \"download\", \"dropped\", \"dropped\", \"duracell\", \"duracell\", \"ease\", \"ease\", \"easy\", \"easy\", \"easy\", \"energizer\", \"energizer\", \"enjoys\", \"enjoys\", \"enjoys\", \"excellent\", \"excellent\", \"excellent\", \"expandable\", \"expandable\", \"expected\", \"expected\", \"expected\", \"expensive\", \"expensive\", \"expensive\", \"eyes\", \"eyes\", \"far\", \"far\", \"far\", \"fast\", \"fast\", \"fast\", \"fine\", \"fine\", \"fine\", \"fix\", \"flashlights\", \"free\", \"free\", \"free\", \"freetime\", \"freetime\", \"friendly\", \"friendly\", \"friendly\", \"frustrating\", \"frustrating\", \"games\", \"games\", \"games\", \"gb\", \"gb\", \"gb\", \"generation\", \"gift\", \"gift\", \"gift\", \"good\", \"good\", \"good\", \"google\", \"google\", \"got\", \"got\", \"got\", \"grand\", \"grand\", \"grand\", \"granddaughter\", \"granddaughter\", \"granddaughter\", \"grandson\", \"grandson\", \"grandson\", \"great\", \"great\", \"great\", \"husband\", \"husband\", \"husband\", \"install\", \"interested\", \"ipad\", \"ipad\", \"ipad\", \"isn\", \"isn\", \"isn\", \"kid\", \"kid\", \"kid\", \"kids\", \"kids\", \"kids\", \"kindle\", \"kindle\", \"kindle\", \"lasting\", \"lasting\", \"law\", \"law\", \"law\", \"leak\", \"learning\", \"learning\", \"learning\", \"life\", \"life\", \"life\", \"light\", \"light\", \"light\", \"lighter\", \"lightweight\", \"lightweight\", \"lightweight\", \"like\", \"like\", \"like\", \"likes\", \"limited\", \"limited\", \"little\", \"little\", \"little\", \"load\", \"load\", \"load\", \"long\", \"long\", \"long\", \"longevity\", \"lot\", \"lot\", \"lot\", \"love\", \"love\", \"love\", \"loved\", \"loved\", \"loved\", \"loves\", \"loves\", \"loves\", \"magazine\", \"memory\", \"memory\", \"memory\", \"micro\", \"mom\", \"mom\", \"mom\", \"money\", \"money\", \"money\", \"mother\", \"mother\", \"mother\", \"new\", \"new\", \"new\", \"nice\", \"nice\", \"nice\", \"niece\", \"oasis\", \"old\", \"old\", \"old\", \"operating\", \"operating\", \"ordering\", \"os\", \"pack\", \"pack\", \"pack\", \"package\", \"package\", \"package\", \"packaged\", \"packaging\", \"packaging\", \"packs\", \"paperwhite\", \"parent\", \"parent\", \"perfect\", \"perfect\", \"perfect\", \"play\", \"play\", \"play\", \"playing\", \"playing\", \"playing\", \"pre\", \"pre\", \"present\", \"present\", \"present\", \"price\", \"price\", \"price\", \"prime\", \"prime\", \"prime\", \"product\", \"product\", \"product\", \"profile\", \"profile\", \"proof\", \"purchased\", \"purchased\", \"purchased\", \"purse\", \"purse\", \"quality\", \"quality\", \"quality\", \"quantity\", \"rayovac\", \"read\", \"read\", \"read\", \"reader\", \"reader\", \"reader\", \"reading\", \"reading\", \"reading\", \"rechargeable\", \"rechargeable\", \"remote\", \"remote\", \"remotes\", \"remotes\", \"screen\", \"screen\", \"screen\", \"sd\", \"sd\", \"services\", \"set\", \"set\", \"set\", \"shipping\", \"size\", \"size\", \"size\", \"slow\", \"slow\", \"slow\", \"son\", \"son\", \"son\", \"store\", \"store\", \"store\", \"streaming\", \"streaming\", \"streaming\", \"subscription\", \"subscription\", \"tablet\", \"tablet\", \"tablet\", \"tablets\", \"tablets\", \"tablets\", \"text\", \"time\", \"time\", \"time\", \"toys\", \"toys\", \"unlimited\", \"unlimited\", \"upgrade\", \"upgrade\", \"upgraded\", \"usb\", \"usb\", \"usb\", \"use\", \"use\", \"use\", \"user\", \"user\", \"user\", \"users\", \"users\", \"value\", \"value\", \"value\", \"ve\", \"ve\", \"ve\", \"video\", \"video\", \"video\", \"voyage\", \"weight\", \"weight\", \"weight\", \"wife\", \"wife\", \"wife\", \"work\", \"work\", \"work\", \"works\", \"works\", \"works\", \"wrapped\", \"year\", \"year\", \"year\"]}, \"R\": 30, \"lambda.step\": 0.01, \"plot.opts\": {\"xlab\": \"PC1\", \"ylab\": \"PC2\"}, \"topic.order\": [2, 1, 3]};\n",
       "\n",
       "function LDAvis_load_lib(url, callback){\n",
       "  var s = document.createElement('script');\n",
       "  s.src = url;\n",
       "  s.async = true;\n",
       "  s.onreadystatechange = s.onload = callback;\n",
       "  s.onerror = function(){console.warn(\"failed to load library \" + url);};\n",
       "  document.getElementsByTagName(\"head\")[0].appendChild(s);\n",
       "}\n",
       "\n",
       "if(typeof(LDAvis) !== \"undefined\"){\n",
       "   // already loaded: just create the visualization\n",
       "   !function(LDAvis){\n",
       "       new LDAvis(\"#\" + \"ldavis_el1269621467345856728691371631\", ldavis_el1269621467345856728691371631_data);\n",
       "   }(LDAvis);\n",
       "}else if(typeof define === \"function\" && define.amd){\n",
       "   // require.js is available: use it to load d3/LDAvis\n",
       "   require.config({paths: {d3: \"https://cdnjs.cloudflare.com/ajax/libs/d3/3.5.5/d3.min\"}});\n",
       "   require([\"d3\"], function(d3){\n",
       "      window.d3 = d3;\n",
       "      LDAvis_load_lib(\"https://cdn.rawgit.com/bmabey/pyLDAvis/files/ldavis.v1.0.0.js\", function(){\n",
       "        new LDAvis(\"#\" + \"ldavis_el1269621467345856728691371631\", ldavis_el1269621467345856728691371631_data);\n",
       "      });\n",
       "    });\n",
       "}else{\n",
       "    // require.js not available: dynamically load d3 & LDAvis\n",
       "    LDAvis_load_lib(\"https://cdnjs.cloudflare.com/ajax/libs/d3/3.5.5/d3.min.js\", function(){\n",
       "         LDAvis_load_lib(\"https://cdn.rawgit.com/bmabey/pyLDAvis/files/ldavis.v1.0.0.js\", function(){\n",
       "                 new LDAvis(\"#\" + \"ldavis_el1269621467345856728691371631\", ldavis_el1269621467345856728691371631_data);\n",
       "            })\n",
       "         });\n",
       "}\n",
       "</script>"
      ],
      "text/plain": [
       "PreparedData(topic_coordinates=              x         y  topics  cluster       Freq\n",
       "topic                                                \n",
       "1     -0.178163 -0.078077       1        1  34.520866\n",
       "0      0.231951 -0.033985       2        1  33.611122\n",
       "2     -0.053787  0.112062       3        1  31.868019, topic_info=     Category         Freq       Term        Total  loglift  logprob\n",
       "17    Default  6964.000000  batteries  6964.000000  30.0000  30.0000\n",
       "16    Default  5875.000000      price  5875.000000  29.0000  29.0000\n",
       "33    Default  6288.000000       good  6288.000000  28.0000  28.0000\n",
       "1831  Default  7157.000000     tablet  7157.000000  27.0000  27.0000\n",
       "1627  Default  2920.000000     kindle  2920.000000  26.0000  26.0000\n",
       "1496  Default  2231.000000      loves  2231.000000  25.0000  25.0000\n",
       "8     Default  2319.000000       work  2319.000000  24.0000  24.0000\n",
       "22    Default  2395.000000       long  2395.000000  23.0000  23.0000\n",
       "481   Default  2196.000000        old  2196.000000  22.0000  22.0000\n",
       "86    Default  3398.000000       love  3398.000000  21.0000  21.0000\n",
       "1286  Default  1933.000000       apps  1933.000000  20.0000  20.0000\n",
       "679   Default  2967.000000       easy  2967.000000  19.0000  19.0000\n",
       "19    Default  1184.000000      brand  1184.000000  18.0000  18.0000\n",
       "360   Default  1199.000000      value  1199.000000  17.0000  17.0000\n",
       "785   Default  1069.000000       gift  1069.000000  16.0000  16.0000\n",
       "23    Default  3858.000000     amazon  3858.000000  15.0000  15.0000\n",
       "101   Default  1818.000000       year  1818.000000  14.0000  14.0000\n",
       "20    Default  9874.000000      great  9874.000000  13.0000  13.0000\n",
       "706   Default  1188.000000       read  1188.000000  12.0000  12.0000\n",
       "832   Default  1179.000000    reading  1179.000000  11.0000  11.0000\n",
       "2     Default  2077.000000    battery  2077.000000  10.0000  10.0000\n",
       "73    Default   809.000000     brands   809.000000   9.0000   9.0000\n",
       "1633  Default  1497.000000      books  1497.000000   8.0000   8.0000\n",
       "594   Default  1794.000000      games  1794.000000   7.0000   7.0000\n",
       "27    Default  3158.000000     bought  3158.000000   6.0000   6.0000\n",
       "6     Default  1479.000000    quality  1479.000000   5.0000   5.0000\n",
       "400   Default   933.000000       deal   933.000000   4.0000   4.0000\n",
       "185   Default  2590.000000       kids  2590.000000   3.0000   3.0000\n",
       "1370  Default  1642.000000     screen  1642.000000   2.0000   2.0000\n",
       "1086  Default   974.000000   daughter   974.000000   1.0000   1.0000\n",
       "...       ...          ...        ...          ...      ...      ...\n",
       "859    Topic3   173.009094      apple   189.692917   1.0515  -6.3116\n",
       "1831   Topic3  4301.040527     tablet  7157.662109   0.6342  -3.0984\n",
       "891    Topic3   207.021439      video   235.493134   1.0147  -6.1322\n",
       "23     Topic3  2189.792236     amazon  3858.845947   0.5770  -3.7734\n",
       "226    Topic3   690.577209     device  1000.115356   0.7732  -4.9275\n",
       "1927   Topic3   391.176025   download   516.319275   0.8660  -5.4958\n",
       "185    Topic3  1474.325439       kids  2590.124512   0.5801  -4.1690\n",
       "373    Topic3   389.591492      child   522.616699   0.8498  -5.4999\n",
       "1201   Topic3   376.199036        kid   523.095703   0.8139  -5.5349\n",
       "1995   Topic3   488.916901    tablets   761.062622   0.7010  -5.2728\n",
       "381    Topic3   678.410950       play  1193.307861   0.5788  -4.9452\n",
       "1230   Topic3   325.585114     access   442.752747   0.8362  -5.6794\n",
       "385    Topic3   593.124329      store  1022.111816   0.5993  -5.0796\n",
       "1370   Topic3   821.737183     screen  1642.483398   0.4510  -4.7536\n",
       "90     Topic3  1538.937744        use  4423.558594   0.0877  -4.1261\n",
       "615    Topic3   478.239258        set   812.107849   0.6140  -5.2949\n",
       "1512   Topic3   488.787292       ipad   846.359009   0.5946  -5.2731\n",
       "166    Topic3   823.550110       time  2046.498779   0.2333  -4.7514\n",
       "33     Topic3  1510.699829       good  6288.259766  -0.2825  -4.1447\n",
       "234    Topic3   434.699951       fast   731.353882   0.6233  -5.3903\n",
       "11     Topic3   822.556946       like  2460.124512   0.0480  -4.7526\n",
       "20     Topic3  1641.134399      great  9874.867188  -0.6510  -4.0618\n",
       "679    Topic3   832.817871       easy  2967.096191  -0.1270  -4.7402\n",
       "2      Topic3   614.779663    battery  2077.172852  -0.0739  -5.0437\n",
       "431    Topic3   452.821991     little   961.616211   0.3905  -5.3495\n",
       "594    Topic3   525.110474      games  1794.644897  -0.0854  -5.2014\n",
       "27     Topic3   571.951843     bought  3158.186035  -0.5651  -5.1159\n",
       "172    Topic3   448.528290       nice  1232.450928   0.1328  -5.3590\n",
       "86     Topic3   526.533630       love  3398.259277  -0.7211  -5.1987\n",
       "58     Topic3   428.561310       life  1005.159668   0.2911  -5.4046\n",
       "\n",
       "[244 rows x 6 columns], token_table=      Topic      Freq          Term\n",
       "term                               \n",
       "55        2  0.996559            aa\n",
       "55        3  0.002260            aa\n",
       "56        2  0.997175           aaa\n",
       "56        3  0.002977           aaa\n",
       "867       1  0.940009    absolutely\n",
       "867       2  0.014518    absolutely\n",
       "867       3  0.047182    absolutely\n",
       "1230      1  0.264256        access\n",
       "1230      2  0.002259        access\n",
       "1230      3  0.736303        access\n",
       "439       1  0.024958       account\n",
       "439       3  0.973353       account\n",
       "2073      3  0.968914      accounts\n",
       "1238      1  0.050588           add\n",
       "1238      2  0.010118           add\n",
       "1238      3  0.940941           add\n",
       "1662      1  0.011626           ads\n",
       "1662      3  0.988218           ads\n",
       "2082      1  0.025249        adults\n",
       "2082      2  0.008416        adults\n",
       "2082      3  0.967860        adults\n",
       "550       1  0.024250    advertised\n",
       "550       2  0.976072    advertised\n",
       "258       2  0.994584      alkaline\n",
       "258       3  0.005100      alkaline\n",
       "1447      3  0.989560       allowed\n",
       "23        1  0.057012        amazon\n",
       "23        2  0.375501        amazon\n",
       "23        3  0.567527        amazon\n",
       "24        2  0.997504  amazonbasics\n",
       "...     ...       ...           ...\n",
       "914       2  0.002683          user\n",
       "914       3  0.963174          user\n",
       "1888      1  0.013741         users\n",
       "1888      3  0.975601         users\n",
       "360       1  0.002501         value\n",
       "360       2  0.974540         value\n",
       "360       3  0.022509         value\n",
       "161       1  0.157545            ve\n",
       "161       2  0.655477            ve\n",
       "161       3  0.186294            ve\n",
       "891       1  0.089175         video\n",
       "891       2  0.029725         video\n",
       "891       3  0.879007         video\n",
       "2001      1  0.997626        voyage\n",
       "1198      1  0.983243        weight\n",
       "1198      2  0.015859        weight\n",
       "1198      3  0.005286        weight\n",
       "571       1  0.993595          wife\n",
       "571       2  0.002253          wife\n",
       "571       3  0.004506          wife\n",
       "8         1  0.009052          work\n",
       "8         2  0.927178          work\n",
       "8         3  0.063795          work\n",
       "92        1  0.323966         works\n",
       "92        2  0.535673         works\n",
       "92        3  0.140324         works\n",
       "525       2  0.995202       wrapped\n",
       "101       1  0.827441          year\n",
       "101       2  0.004948          year\n",
       "101       3  0.167687          year\n",
       "\n",
       "[467 rows x 3 columns], R=30, lambda_step=0.01, plot_opts={'xlab': 'PC1', 'ylab': 'PC2'}, topic_order=[2, 1, 3])"
      ]
     },
     "execution_count": 78,
     "metadata": {},
     "output_type": "execute_result"
    }
   ],
   "source": [
    "pyLDAvis.gensim.prepare(nlda, corpus, id2word)"
   ]
  },
  {
   "cell_type": "markdown",
   "metadata": {},
   "source": [
    "## Stretch Goals\n",
    "\n",
    "* Incorporate Named Entity Recognition in your analysis\n",
    "* Incorporate some custom pre-processing from our previous lessons (like spacy lemmatization)\n",
    "* Analyze a dataset of interest to you with topic modeling"
   ]
  }
 ],
 "metadata": {
  "kernelspec": {
   "display_name": "U4-S1-NLP (Python3)",
   "language": "python",
   "name": "u4-s1-nlp"
  },
  "language_info": {
   "codemirror_mode": {
    "name": "ipython",
    "version": 3
   },
   "file_extension": ".py",
   "mimetype": "text/x-python",
   "name": "python",
   "nbconvert_exporter": "python",
   "pygments_lexer": "ipython3",
   "version": "3.7.6"
  }
 },
 "nbformat": 4,
 "nbformat_minor": 4
}
